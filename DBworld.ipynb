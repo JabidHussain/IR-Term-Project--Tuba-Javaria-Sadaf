{
 "cells": [
  {
   "cell_type": "code",
   "execution_count": 1,
   "metadata": {},
   "outputs": [
    {
     "name": "stderr",
     "output_type": "stream",
     "text": [
      "C:\\Users\\jabid\\Anaconda2\\lib\\site-packages\\sklearn\\cross_validation.py:41: DeprecationWarning: This module was deprecated in version 0.18 in favor of the model_selection module into which all the refactored classes and functions are moved. Also note that the interface of the new CV iterators are different from that of this module. This module will be removed in 0.20.\n",
      "  \"This module will be removed in 0.20.\", DeprecationWarning)\n"
     ]
    },
    {
     "name": "stdout",
     "output_type": "stream",
     "text": [
      "KNeighborsClassifier(algorithm='auto', leaf_size=30, metric='minkowski',\n",
      "           metric_params=None, n_jobs=1, n_neighbors=5, p=2,\n",
      "           weights='uniform')\n",
      "             precision    recall  f1-score   support\n",
      "\n",
      "          0       0.47      1.00      0.64         9\n",
      "          1       1.00      0.09      0.17        11\n",
      "\n",
      "avg / total       0.76      0.50      0.38        20\n",
      "\n"
     ]
    }
   ],
   "source": [
    "                                                 #KNN classifier on Database Dbworld\n",
    "\n",
    "\n",
    "\n",
    "#import libraries\n",
    "import numpy as np\n",
    "import pandas as pd\n",
    "import scipy\n",
    "import matplotlib.pyplot as plt\n",
    "from pylab import rcParams\n",
    "import urllib\n",
    "import sklearn\n",
    "from sklearn.neighbors import KNeighborsClassifier\n",
    "from sklearn import neighbors \n",
    "from sklearn import preprocessing\n",
    "from sklearn.cross_validation import train_test_split\n",
    "from sklearn import metrics\n",
    "address='C:/Users/jabid/Desktop/dbworld_bodies.csv'      #path of csv file\n",
    "dbworld = pd.read_csv(address).values\n",
    "y=dbworld[:,-1]                                          #label of testing class\n",
    "x=dbworld[:,0:4702]                                      #label of training class\n",
    "\n",
    "\n",
    "\n",
    "\n",
    "xtrain, xtest, ytrain, ytest = train_test_split(x, y, test_size=0.3, random_state=0)   # training the data\n",
    "\n",
    "clf = neighbors.KNeighborsClassifier()   #calling KNN classifier\n",
    "clf.fit(xtrain,ytrain)\n",
    "print(clf)\n",
    "y_expect= ytest\n",
    "y_pred = clf.predict(xtest)\n",
    "print(metrics.classification_report(y_expect, y_pred))      #print metrics\n"
   ]
  },
  {
   "cell_type": "code",
   "execution_count": 2,
   "metadata": {},
   "outputs": [
    {
     "name": "stdout",
     "output_type": "stream",
     "text": [
      "NearestCentroid(metric='euclidean', shrink_threshold=None)\n",
      "             precision    recall  f1-score   support\n",
      "\n",
      "          0       0.88      0.78      0.82         9\n",
      "          1       0.83      0.91      0.87        11\n",
      "\n",
      "avg / total       0.85      0.85      0.85        20\n",
      "\n"
     ]
    }
   ],
   "source": [
    "                                     #Applying Rocchio classifier on Dbworld database\n",
    "\n",
    "    \n",
    "#import libraries\n",
    "import numpy as np\n",
    "import pandas as pd\n",
    "import scipy\n",
    "import matplotlib.pyplot as plt\n",
    "from pylab import rcParams\n",
    "import urllib\n",
    "import sklearn\n",
    "#from sklearn.neighbors import KNeighborsClassifier\n",
    "from sklearn.neighbors.nearest_centroid import NearestCentroid\n",
    "from sklearn import neighbors \n",
    "from sklearn import preprocessing\n",
    "from sklearn.cross_validation import train_test_split\n",
    "from sklearn import metrics\n",
    "\n",
    "#loading dataset\n",
    "address='C:/Users/jabid/Desktop/dbworld_bodies.csv'\n",
    "dbworld = pd.read_csv(address).values\n",
    "\n",
    "#definig dependent independent classes\n",
    "y=dbworld[:,-1]\n",
    "x=dbworld[:,0:4702]\n",
    "\n",
    "#training data on 70% 30%dataset\n",
    "xtrain, xtest, ytrain, ytest = train_test_split(x, y, test_size=0.3) \n",
    "\n",
    "\n",
    "xtrain, xtest, ytrain, ytest = train_test_split(x, y, test_size=0.3, random_state=0) \n",
    "\n",
    "#applying rocchio\n",
    "\n",
    "clf = NearestCentroid()\n",
    "clf.fit(xtrain,ytrain)\n",
    "NearestCentroid(metric='euclidean', shrink_threshold=None)\n",
    "print(clf)\n",
    "\n",
    "\n",
    "y_expect= ytest\n",
    "y_pred = clf.predict(xtest)\n",
    "print(metrics.classification_report(y_expect, y_pred))"
   ]
  },
  {
   "cell_type": "code",
   "execution_count": 3,
   "metadata": {},
   "outputs": [
    {
     "name": "stdout",
     "output_type": "stream",
     "text": [
      "BernoulliNB(alpha=1.0, binarize=True, class_prior=None, fit_prior=True)\n",
      "0.45\n",
      "MultinomialNB(alpha=1.0, class_prior=None, fit_prior=True)\n",
      "0.9\n",
      "GaussianNB(priors=None)\n",
      "0.85\n"
     ]
    }
   ],
   "source": [
    "                                         # Applying Naive bayes on Dbworld dataset \n",
    "\n",
    "#import libraries\n",
    "\n",
    "import numpy as np\n",
    "import pandas as pd\n",
    "import urllib\n",
    "import sklearn\n",
    "from sklearn.naive_bayes import BernoulliNB\n",
    "from sklearn.naive_bayes import GaussianNB\n",
    "from sklearn.naive_bayes import MultinomialNB\n",
    "from sklearn.cross_validation import train_test_split\n",
    "from sklearn import metrics\n",
    "from sklearn.metrics import accuracy_score\n",
    "\n",
    "# Setting path of dataset\n",
    "address='C:/Users/jabid/Desktop/dbworld_bodies.csv'\n",
    "dbworld = pd.read_csv(address).values\n",
    "y=dbworld[:,-1]               #dividing in dependent independent dataset\n",
    "x=dbworld[:,0:4702]\n",
    "\n",
    "\n",
    "xtrain, xtest, ytrain, ytest = train_test_split(x, y, test_size=0.3)   #trainig and testing of data on 30% 70%\n",
    " \n",
    "\n",
    "xtrain, xtest, ytrain, ytest = train_test_split(x, y, test_size=0.3, random_state=0)   #trainig and testing of data on 30% 70%\n",
    "BernNB = BernoulliNB(binarize=True)    #Bernouli Classifier\n",
    "BernNB.fit(xtrain, ytrain)\n",
    "print (BernNB)\n",
    "y_expect= ytest\n",
    "y_pred = BernNB.predict(xtest)\n",
    "print accuracy_score(y_expect, y_pred)     # prinintg accuracy\n",
    "\n",
    "MultiNB = MultinomialNB()                  # multinomial classifier\n",
    "MultiNB.fit(xtrain, ytrain)\n",
    "print (MultiNB)\n",
    "y_pred = MultiNB.predict(xtest)\n",
    "print accuracy_score(y_expect, y_pred)\n",
    "\n",
    "GausNB = GaussianNB()                      # Gaussian classifier\n",
    "GausNB.fit(xtrain, ytrain)\n",
    "print (GausNB)\n",
    "y_pred = GausNB.predict(xtest)\n",
    "print accuracy_score(y_expect, y_pred)"
   ]
  },
  {
   "cell_type": "code",
   "execution_count": null,
   "metadata": {},
   "outputs": [],
   "source": []
  }
 ],
 "metadata": {
  "kernelspec": {
   "display_name": "Python 2",
   "language": "python",
   "name": "python2"
  },
  "language_info": {
   "codemirror_mode": {
    "name": "ipython",
    "version": 2
   },
   "file_extension": ".py",
   "mimetype": "text/x-python",
   "name": "python",
   "nbconvert_exporter": "python",
   "pygments_lexer": "ipython2",
   "version": "2.7.14"
  }
 },
 "nbformat": 4,
 "nbformat_minor": 2
}
